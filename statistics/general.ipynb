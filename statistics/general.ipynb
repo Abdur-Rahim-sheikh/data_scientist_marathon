{
 "cells": [
  {
   "cell_type": "markdown",
   "metadata": {},
   "source": [
    "# Mean"
   ]
  },
  {
   "cell_type": "code",
   "execution_count": 2,
   "metadata": {},
   "outputs": [
    {
     "name": "stdout",
     "output_type": "stream",
     "text": [
      "3.75\n",
      "3.75 nan\n"
     ]
    }
   ],
   "source": [
    "import numpy as np\n",
    "import math\n",
    "x = np.array([1,3,5,6])\n",
    "mean_x = np.mean(x)\n",
    "print(mean_x)\n",
    "# in case the data contains Nan values\n",
    "x_nan = np.array([1,math.nan,math.nan,3,5,6, math.nan])\n",
    "mean_x_nan = np.nanmean(x_nan)\n",
    "print(mean_x_nan, np.mean(x_nan))"
   ]
  },
  {
   "cell_type": "markdown",
   "metadata": {},
   "source": [
    "# variance"
   ]
  },
  {
   "cell_type": "code",
   "execution_count": 3,
   "metadata": {},
   "outputs": [
    {
     "name": "stdout",
     "output_type": "stream",
     "text": [
      "3.6875 3.6875 nan\n"
     ]
    }
   ],
   "source": [
    "x = np.array([1,3,5,6])\n",
    "variance_x = np.var(x)\n",
    "\n",
    "# here you need to specify the degrees of freedom (df) max number of logically independent data points that have freedom to vary\n",
    "x_nan = np.array([1,3,5,6, math.nan])\n",
    "var_x_nan = np.nanvar(x_nan, ddof = 0)\n",
    "print(variance_x,var_x_nan, np.var(x_nan, ddof = 1))"
   ]
  },
  {
   "cell_type": "code",
   "execution_count": 4,
   "metadata": {},
   "outputs": [
    {
     "name": "stdout",
     "output_type": "stream",
     "text": [
      "14.75\n",
      "14.75\n",
      "14.75\n"
     ]
    }
   ],
   "source": [
    "l = 3\n",
    "print(np.nanvar(x_nan, ddof=l))\n",
    "print(np.nanvar(x_nan, ddof=0)*(4/(4-l)))\n",
    "print(np.var(x, ddof=l))"
   ]
  },
  {
   "cell_type": "markdown",
   "metadata": {},
   "source": [
    "# standard deviation\n",
    "![Standard Deviation Equation](https://latex.codecogs.com/svg.image?\\Large&space;\\sigma=\\sqrt{\\frac{1}{N}\\sum_{i=1}^{N}(x_i-\\mu)^2})"
   ]
  },
  {
   "cell_type": "code",
   "execution_count": 5,
   "metadata": {},
   "outputs": [
    {
     "name": "stdout",
     "output_type": "stream",
     "text": [
      "1.920286436967152 1.920286436967152\n"
     ]
    }
   ],
   "source": [
    "x = np.array([1,3,5,6])\n",
    "std_x = np.std(x)\n",
    "\n",
    "x_nan = np.array([1,3,5,6, math.nan])\n",
    "# eclude nan values\n",
    "\n",
    "std_x_nan = np.nanstd(x_nan)\n",
    "print(std_x, std_x_nan)"
   ]
  },
  {
   "cell_type": "code",
   "execution_count": 6,
   "metadata": {},
   "outputs": [
    {
     "name": "stdout",
     "output_type": "stream",
     "text": [
      "[1. 3. 5. 6.]\n"
     ]
    }
   ],
   "source": [
    "filterd_x = x_nan[~np.isnan(x_nan)]\n",
    "print(filterd_x)"
   ]
  },
  {
   "cell_type": "markdown",
   "metadata": {},
   "source": [
    "# Covariance"
   ]
  },
  {
   "cell_type": "code",
   "execution_count": 7,
   "metadata": {},
   "outputs": [
    {
     "name": "stdout",
     "output_type": "stream",
     "text": [
      "[[ 4.3  -5.35]\n",
      " [-5.35 12.7 ]]\n"
     ]
    }
   ],
   "source": [
    "x = np.array([1,3,5,6,2])\n",
    "y = np.array([-2,-4,-5,-6,3])\n",
    "#this will return the covariance matrix of x,y containing x_variance, y_variance on diagonal elements and covariance of x,y\n",
    "cov_xy = np.cov(x,y)\n",
    "print(cov_xy)"
   ]
  },
  {
   "cell_type": "markdown",
   "metadata": {},
   "source": [
    "# Correlation"
   ]
  },
  {
   "cell_type": "code",
   "execution_count": 9,
   "metadata": {},
   "outputs": [
    {
     "name": "stdout",
     "output_type": "stream",
     "text": [
      "[[ 1.         -0.99026741]\n",
      " [-0.99026741  1.        ]]\n"
     ]
    }
   ],
   "source": [
    "x = np.array([1,3,5,6])\n",
    "y = np.array([-2,-4,-5,-6])\n",
    "corr = np.corrcoef(x,y)\n",
    "print(corr)"
   ]
  },
  {
   "cell_type": "code",
   "execution_count": null,
   "metadata": {},
   "outputs": [],
   "source": []
  }
 ],
 "metadata": {
  "kernelspec": {
   "display_name": "base",
   "language": "python",
   "name": "python3"
  },
  "language_info": {
   "codemirror_mode": {
    "name": "ipython",
    "version": 3
   },
   "file_extension": ".py",
   "mimetype": "text/x-python",
   "name": "python",
   "nbconvert_exporter": "python",
   "pygments_lexer": "ipython3",
   "version": "3.11.4"
  },
  "orig_nbformat": 4
 },
 "nbformat": 4,
 "nbformat_minor": 2
}
